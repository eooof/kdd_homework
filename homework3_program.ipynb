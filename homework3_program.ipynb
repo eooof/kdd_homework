{
 "cells": [
  {
   "cell_type": "code",
   "execution_count": 12,
   "metadata": {
    "collapsed": true
   },
   "outputs": [],
   "source": [
    "import numpy as np\n",
    "import pandas as pd\n",
    "import matplotlib.pylab as plt"
   ]
  },
  {
   "cell_type": "code",
   "execution_count": 13,
   "metadata": {
    "collapsed": true
   },
   "outputs": [],
   "source": [
    "df = pd.read_csv('train.csv')"
   ]
  },
  {
   "cell_type": "code",
   "execution_count": 14,
   "metadata": {},
   "outputs": [
    {
     "name": "stderr",
     "output_type": "stream",
     "text": [
      "D:\\Anaconda\\lib\\site-packages\\ipykernel_launcher.py:1: SettingWithCopyWarning: \n",
      "A value is trying to be set on a copy of a slice from a DataFrame\n",
      "\n",
      "See the caveats in the documentation: http://pandas.pydata.org/pandas-docs/stable/indexing.html#indexing-view-versus-copy\n",
      "  \"\"\"Entry point for launching an IPython kernel.\n",
      "D:\\Anaconda\\lib\\site-packages\\ipykernel_launcher.py:2: SettingWithCopyWarning: \n",
      "A value is trying to be set on a copy of a slice from a DataFrame\n",
      "\n",
      "See the caveats in the documentation: http://pandas.pydata.org/pandas-docs/stable/indexing.html#indexing-view-versus-copy\n",
      "  \n",
      "D:\\Anaconda\\lib\\site-packages\\ipykernel_launcher.py:3: SettingWithCopyWarning: \n",
      "A value is trying to be set on a copy of a slice from a DataFrame\n",
      "\n",
      "See the caveats in the documentation: http://pandas.pydata.org/pandas-docs/stable/indexing.html#indexing-view-versus-copy\n",
      "  This is separate from the ipykernel package so we can avoid doing imports until\n",
      "D:\\Anaconda\\lib\\site-packages\\ipykernel_launcher.py:4: SettingWithCopyWarning: \n",
      "A value is trying to be set on a copy of a slice from a DataFrame\n",
      "\n",
      "See the caveats in the documentation: http://pandas.pydata.org/pandas-docs/stable/indexing.html#indexing-view-versus-copy\n",
      "  after removing the cwd from sys.path.\n",
      "D:\\Anaconda\\lib\\site-packages\\ipykernel_launcher.py:8: SettingWithCopyWarning: \n",
      "A value is trying to be set on a copy of a slice from a DataFrame\n",
      "\n",
      "See the caveats in the documentation: http://pandas.pydata.org/pandas-docs/stable/indexing.html#indexing-view-versus-copy\n",
      "  \n",
      "D:\\Anaconda\\lib\\site-packages\\ipykernel_launcher.py:13: SettingWithCopyWarning: \n",
      "A value is trying to be set on a copy of a slice from a DataFrame\n",
      "\n",
      "See the caveats in the documentation: http://pandas.pydata.org/pandas-docs/stable/indexing.html#indexing-view-versus-copy\n",
      "  del sys.path[0]\n",
      "D:\\Anaconda\\lib\\site-packages\\ipykernel_launcher.py:14: SettingWithCopyWarning: \n",
      "A value is trying to be set on a copy of a slice from a DataFrame\n",
      "\n",
      "See the caveats in the documentation: http://pandas.pydata.org/pandas-docs/stable/indexing.html#indexing-view-versus-copy\n",
      "  \n"
     ]
    }
   ],
   "source": [
    "df.Embarked[df.Embarked.isnull()] = df.Embarked.dropna().mode().values\n",
    "df['Embarked'][df.Embarked=='C']=1\n",
    "df['Embarked'][df.Embarked=='Q']=2\n",
    "df['Embarked'][df.Embarked=='S']=3\n",
    "df['Embarked']=df.Embarked.astype(int)\n",
    "\n",
    "randnum=np.random.randint(df['Age'].mean()- df['Age'].std(), df['Age'].mean() + df['Age'].std(), size=df['Age'].isnull().sum())\n",
    "df['Age'][np.isnan(df['Age'])] = randnum\n",
    "df['Age']=df.Age.astype(int)\n",
    "\n",
    "df['Relatives']=df['SibSp']+df['Parch']\n",
    "\n",
    "df['Sex'][df.Sex=='male']=1\n",
    "df['Sex'][df.Sex=='female']=0\n",
    "df['Sex']=df.Sex.astype(int)"
   ]
  },
  {
   "cell_type": "code",
   "execution_count": 15,
   "metadata": {
    "collapsed": true
   },
   "outputs": [],
   "source": [
    "X_train=df[['Pclass','Sex','Age','Fare','Embarked','Relatives']]\n",
    "Y_train=df['Survived']"
   ]
  },
  {
   "cell_type": "code",
   "execution_count": 16,
   "metadata": {},
   "outputs": [
    {
     "name": "stderr",
     "output_type": "stream",
     "text": [
      "D:\\Anaconda\\lib\\site-packages\\ipykernel_launcher.py:3: SettingWithCopyWarning: \n",
      "A value is trying to be set on a copy of a slice from a DataFrame\n",
      "\n",
      "See the caveats in the documentation: http://pandas.pydata.org/pandas-docs/stable/indexing.html#indexing-view-versus-copy\n",
      "  This is separate from the ipykernel package so we can avoid doing imports until\n",
      "D:\\Anaconda\\lib\\site-packages\\ipykernel_launcher.py:5: SettingWithCopyWarning: \n",
      "A value is trying to be set on a copy of a slice from a DataFrame\n",
      "\n",
      "See the caveats in the documentation: http://pandas.pydata.org/pandas-docs/stable/indexing.html#indexing-view-versus-copy\n",
      "  \"\"\"\n",
      "D:\\Anaconda\\lib\\site-packages\\ipykernel_launcher.py:8: SettingWithCopyWarning: \n",
      "A value is trying to be set on a copy of a slice from a DataFrame\n",
      "\n",
      "See the caveats in the documentation: http://pandas.pydata.org/pandas-docs/stable/indexing.html#indexing-view-versus-copy\n",
      "  \n",
      "D:\\Anaconda\\lib\\site-packages\\ipykernel_launcher.py:9: SettingWithCopyWarning: \n",
      "A value is trying to be set on a copy of a slice from a DataFrame\n",
      "\n",
      "See the caveats in the documentation: http://pandas.pydata.org/pandas-docs/stable/indexing.html#indexing-view-versus-copy\n",
      "  if __name__ == '__main__':\n",
      "D:\\Anaconda\\lib\\site-packages\\ipykernel_launcher.py:11: SettingWithCopyWarning: \n",
      "A value is trying to be set on a copy of a slice from a DataFrame\n",
      "\n",
      "See the caveats in the documentation: http://pandas.pydata.org/pandas-docs/stable/indexing.html#indexing-view-versus-copy\n",
      "  # This is added back by InteractiveShellApp.init_path()\n",
      "D:\\Anaconda\\lib\\site-packages\\ipykernel_launcher.py:12: SettingWithCopyWarning: \n",
      "A value is trying to be set on a copy of a slice from a DataFrame\n",
      "\n",
      "See the caveats in the documentation: http://pandas.pydata.org/pandas-docs/stable/indexing.html#indexing-view-versus-copy\n",
      "  if sys.path[0] == '':\n",
      "D:\\Anaconda\\lib\\site-packages\\ipykernel_launcher.py:13: SettingWithCopyWarning: \n",
      "A value is trying to be set on a copy of a slice from a DataFrame\n",
      "\n",
      "See the caveats in the documentation: http://pandas.pydata.org/pandas-docs/stable/indexing.html#indexing-view-versus-copy\n",
      "  del sys.path[0]\n"
     ]
    }
   ],
   "source": [
    "df_t = pd.read_csv('test.csv')\n",
    "\n",
    "df_t.Embarked[df_t.Embarked.isnull()] = df_t.Embarked.dropna().mode().values\n",
    "randnum=np.random.randint(df_t['Age'].mean()- df_t['Age'].std(), df_t['Age'].mean() + df_t['Age'].std(), size=df_t['Age'].isnull().sum())\n",
    "df_t['Age'][np.isnan(df_t['Age'])] = randnum\n",
    "df_t['Age']=df_t.Age.astype(int)\n",
    "df_t['Relatives']=df_t['SibSp']+df_t['Parch']\n",
    "df_t['Sex'][df_t.Sex=='male']=1\n",
    "df_t['Sex'][df_t.Sex=='female']=0\n",
    "df_t['Sex']=df_t.Sex.astype(int)\n",
    "df_t['Embarked'][df_t.Embarked=='C']=1\n",
    "df_t['Embarked'][df_t.Embarked=='Q']=2\n",
    "df_t['Embarked'][df_t.Embarked=='S']=3\n",
    "df_t['Embarked']=df_t.Embarked.astype(int)\n",
    "\n",
    "X_test=df_t[['Pclass','Sex','Age','Fare','Embarked','Relatives']]\n",
    "X_test=X_test[X_test.Fare.notnull()]"
   ]
  },
  {
   "cell_type": "code",
   "execution_count": 17,
   "metadata": {},
   "outputs": [],
   "source": [
    "from sklearn.ensemble import RandomForestClassifier \n",
    "\n",
    "random_forest = RandomForestClassifier(n_estimators=100)\n",
    "random_forest.fit(X_train, Y_train)\n",
    "Y_pred_r = random_forest.predict(X_test)"
   ]
  },
  {
   "cell_type": "code",
   "execution_count": 18,
   "metadata": {
    "collapsed": true
   },
   "outputs": [],
   "source": [
    "from sklearn.linear_model.logistic import LogisticRegression\n",
    "\n",
    "logreg = LogisticRegression()\n",
    "logreg.fit(X_train, Y_train)\n",
    "Y_pred_l = logreg.predict(X_test)"
   ]
  },
  {
   "cell_type": "code",
   "execution_count": 19,
   "metadata": {
    "collapsed": true
   },
   "outputs": [],
   "source": [
    "X_cluster=df[['Pclass','Sex','Age','Fare','Embarked','Relatives','Survived']]"
   ]
  },
  {
   "cell_type": "code",
   "execution_count": 20,
   "metadata": {
    "collapsed": true
   },
   "outputs": [],
   "source": [
    "from sklearn.cluster import KMeans\n",
    "\n",
    "Y_cluster_k = KMeans(n_clusters=3, random_state=10).fit(X_cluster)"
   ]
  },
  {
   "cell_type": "code",
   "execution_count": 23,
   "metadata": {},
   "outputs": [
    {
     "data": {
      "text/plain": [
       "array([ 86,  30,  99,  15, 168, 174,   7,  46, 148,  49,  47, 228, 113,\n",
       "       242, 136, 218,  61, 215, 182, 134, 245, 180, 133, 258,  54, 242,\n",
       "       205, 277,  88, 208, 244, 290, 177,  41,  35,  17, 110,  81,  51,\n",
       "        52, 202, 267,  90,  67, 118, 113,  53, 118, 259,  51,  67,  81,\n",
       "         4, 271,   6, 231, 129, 157,  64,  72,  90,  27,   2,  60, 244,\n",
       "       183, 163, 111, 138,  95, 139,  73,  37, 144,  19, 102, 190,  98,\n",
       "        65, 141,  78, 161, 177,  18, 126, 182,  69, 197, 277, 103, 159,\n",
       "       114,  10, 259,  42, 210,  43,  39, 254, 245, 159, 121,  36, 165,\n",
       "       201, 159,  79, 159, 207, 262,   8,  53,  84, 127,  53,  81,  40,\n",
       "       267, 277,  63,  37, 121, 256, 140,   3,  52, 206, 107, 264, 195,\n",
       "       178, 112, 217, 271, 152, 155,  49,  16, 131,  34, 183,  89, 151,\n",
       "       119, 125,  69,  99,  66, 247, 215, 220,  39,  42, 212,  87,  10,\n",
       "       134, 159, 100,  38, 217, 214,  98, 120,  67,  54,  20, 241,  49,\n",
       "        20, 224,  60,  48,  81, 227, 124,  49, 233, 142, 185,  33,  53,\n",
       "        57,  67,  45,  18, 149, 237, 212, 167, 140,  53, 117,  65, 240,\n",
       "       284, 166, 192, 199, 154, 162,  32, 170, 200, 118,  48, 182, 259,\n",
       "       134, 234, 106, 253,  85, 142, 166, 283,  99, 235,  31, 163, 132,\n",
       "       146, 221, 208,  23,  78, 125, 112,  53,  49,  29, 159, 219,  62,\n",
       "        76, 109, 236,  64, 125, 180, 183,  53, 163,  85, 158,   2, 109,\n",
       "       151,  16, 228, 176, 164, 226, 143, 252, 143,  28,  25,   1, 233,\n",
       "       207,  63,   3, 186, 158, 181,  70, 108, 284, 286, 234, 187, 252,\n",
       "       250, 177,   5, 195, 188,  58, 253,  41, 159, 131, 118, 245, 178,\n",
       "       161,  84, 215,  88,  34,  21, 180, 100, 104,  49,  91, 279,  49,\n",
       "       278, 133, 255,  75, 216, 122, 279, 283, 281, 263,  19,  35, 277,\n",
       "       261, 159, 236,  99, 261, 218, 289, 285,  85,  98, 141, 260,  32,\n",
       "       286,  42, 180, 268,  12, 264, 239, 290,  51, 286, 210,  39, 285,\n",
       "       198, 231,  65, 277, 147, 152, 180, 154, 216, 151,  47, 191,  78,\n",
       "       273, 130, 150, 157, 162,  14, 216,  96, 204, 243, 270, 217, 169,\n",
       "       143, 159,   5,  96, 158,  39,  20, 123, 111, 288,  46,  26,  89,\n",
       "       276,  75, 111, 275,  47, 173,  15, 210,  37,  74, 180, 132,  53,\n",
       "       283,  79,  95, 281, 151,  84, 175, 238,  76, 145, 210,  98, 127,\n",
       "       143, 116, 253, 221,  47,  81, 266, 114,  93,  24, 185, 198, 175,\n",
       "       256,  53, 142,  54,  90,  80, 159, 143,  50, 169, 271,  49,  92,\n",
       "       172, 271, 143, 235, 123,   9, 280,  69, 259, 278, 139, 236, 128,\n",
       "       108, 145,  79,  21,  56, 245,  47, 233, 249, 251, 270,   2, 197,\n",
       "       158, 225,  16, 220, 159, 233, 165, 230, 217, 159, 207, 188, 228,\n",
       "        97,  44, 210, 207, 269, 155,  77,  15, 253, 159,  85,  48,  72,\n",
       "       186, 221,  41,  22,  49,  24, 227, 159,  55, 251,  83, 227,   6,\n",
       "        81, 213,   3, 183, 290, 104, 120,  80, 158, 181,  21, 281, 269,\n",
       "       246, 267,  20, 158,  84, 246,  10, 105, 231, 181, 254, 247, 173,\n",
       "        22,  84, 119,  10,  91, 206, 220, 276, 210, 156,  65, 203, 130,\n",
       "       255, 171,  64, 237, 283,  53,  11,  30,  57,  57, 269, 282, 225,\n",
       "        49, 155, 253,  66, 281, 271,  90,  90,  89, 226, 230, 276,  27,\n",
       "       184, 122, 208, 147, 209, 132, 262, 111, 268, 157, 172,  41,   7,\n",
       "       246, 204, 132,  53, 180,  17, 183, 172, 260, 283, 228, 273, 135,\n",
       "        36, 217,   5,  84, 209, 169,   3, 222, 201, 247, 255, 258, 223,\n",
       "       119,   9, 261, 122, 272, 196, 248, 183, 159, 257,  68, 290, 242,\n",
       "       111, 214, 166, 168,  39, 183, 150,  67, 160, 144,  17, 149,  81,\n",
       "       149, 224, 219,  36,  98, 166,  43, 221, 256, 186,  59, 145, 173,\n",
       "       269, 272, 184, 114,  39,  61,  19,  44,   4, 111, 224, 159,  89,\n",
       "       114,  49,  82, 134, 119,  37, 114, 182, 153, 282, 287, 205, 238,\n",
       "       167, 117,  31, 152, 104, 197,  13, 272,  18,  40, 142, 188, 122,\n",
       "       103, 126, 274,   1, 211,  34, 128,  73, 224,  68,  70, 128, 122,\n",
       "       276,  19,  48,  12,  94, 226, 220, 196, 177, 282, 189, 276, 246,\n",
       "        53,  97,  98, 244, 217, 235, 290, 155,  11, 244,   8, 162, 220,\n",
       "       111, 275, 160, 213, 165,  66, 123, 180, 220,  20, 115, 268, 118,\n",
       "       261, 109, 276,  56, 187, 153, 153, 143, 232,   1, 132, 159, 256,\n",
       "        28, 277, 151, 172,   6,  50, 141,  13, 174,  45,  48, 165,  87,\n",
       "        10,  47, 159, 125, 165,  25, 217, 193, 110, 283, 132,   3,  71,\n",
       "       158, 263, 173, 100, 222, 219, 203, 229, 122,  93,  48,  80, 275,\n",
       "       137,  12, 257, 265, 101, 101, 118,  58,  46,   4,  97,  49,  38,\n",
       "        49, 102, 216, 233, 171, 158, 265, 180, 269, 280,  48,  99, 176,\n",
       "       186, 122, 216,  15,  98, 244, 181,  62, 159,  75,  87, 273, 194,\n",
       "        59,   2,  99, 186, 148,  67,  92,  14,  67, 207,   5,  53,  44,\n",
       "       203,  87, 122,  26,  82, 190,  19, 256, 114, 131, 256, 178, 120,\n",
       "       189,  33, 166, 258,  23,  63,  40,  55,  71, 236, 126, 289, 233,\n",
       "       259, 178, 212, 129, 233,  38, 153, 215, 144,  18, 202,  48,  98,\n",
       "         8, 179, 222, 263, 133, 128, 111, 176,   5, 261, 165,  77, 163,\n",
       "       101, 243, 146,  49, 255, 257, 173], dtype=int32)"
      ]
     },
     "execution_count": 23,
     "metadata": {},
     "output_type": "execute_result"
    }
   ],
   "source": [
    "import scipy.cluster.hierarchy as sch\n",
    "\n",
    "disMat = sch.distance.pdist(X_cluster,'euclidean') \n",
    "Z=sch.linkage(disMat,method='average')\n",
    "P=sch.dendrogram(Z) \n",
    "plt.savefig('plot.png')\n",
    "cluster= sch.fcluster(Z, 1, 'inconsistent')\n",
    "cluster"
   ]
  },
  {
   "cell_type": "code",
   "execution_count": 46,
   "metadata": {},
   "outputs": [
    {
     "name": "stderr",
     "output_type": "stream",
     "text": [
      "D:\\Anaconda\\lib\\site-packages\\ipykernel_launcher.py:3: SettingWithCopyWarning: \n",
      "A value is trying to be set on a copy of a slice from a DataFrame.\n",
      "Try using .loc[row_indexer,col_indexer] = value instead\n",
      "\n",
      "See the caveats in the documentation: http://pandas.pydata.org/pandas-docs/stable/indexing.html#indexing-view-versus-copy\n",
      "  This is separate from the ipykernel package so we can avoid doing imports until\n",
      "D:\\Anaconda\\lib\\site-packages\\ipykernel_launcher.py:4: SettingWithCopyWarning: \n",
      "A value is trying to be set on a copy of a slice from a DataFrame.\n",
      "Try using .loc[row_indexer,col_indexer] = value instead\n",
      "\n",
      "See the caveats in the documentation: http://pandas.pydata.org/pandas-docs/stable/indexing.html#indexing-view-versus-copy\n",
      "  after removing the cwd from sys.path.\n"
     ]
    }
   ],
   "source": [
    "X_test['R']=Y_pred_r\n",
    "X_test['L']=Y_pred_l\n",
    "X_cluster['K']=Y_cluster_k.labels_\n",
    "X_cluster['S']=cluster"
   ]
  },
  {
   "cell_type": "code",
   "execution_count": 35,
   "metadata": {},
   "outputs": [
    {
     "data": {
      "image/png": "[encoded data removed]",
      "text/plain": [
       "<matplotlib.figure.Figure at 0x1cc007c9550>"
      ]
     },
     "metadata": {},
     "output_type": "display_data"
    }
   ],
   "source": [
    "Gender_grouped=X_test.groupby(['Sex'])\n",
    "G_Survival_Rate=Gender_grouped.sum()/Gender_grouped.count()\n",
    "\n",
    "x=np.array([1,2])  \n",
    "width=0.3  \n",
    "plt.bar(x-width/2,G_Survival_Rate['R'],width,color='r')  \n",
    "plt.bar(x+width/2,G_Survival_Rate['L'],width,color='b')\n",
    "plt.xticks([1,2])  \n",
    "plt.yticks(np.arange(0.0, 1.1, 0.1)) \n",
    "plt.grid(True,linestyle='-',color='0.7') \n",
    "plt.show()"
   ]
  },
  {
   "cell_type": "code",
   "execution_count": 37,
   "metadata": {},
   "outputs": [
    {
     "data": {
      "image/png": "[encoded data removed]",
      "text/plain": [
       "<matplotlib.figure.Figure at 0x1cc00472e48>"
      ]
     },
     "metadata": {},
     "output_type": "display_data"
    }
   ],
   "source": [
    "Pclass_grouped=X_test.groupby(['Pclass'])\n",
    "P_Survival_Rate=Pclass_grouped.sum()/Pclass_grouped.count()\n",
    "\n",
    "x=np.array([1,2,3])  \n",
    "width=0.3  \n",
    "plt.bar(x-width/2,P_Survival_Rate['R'],width,color='r')  \n",
    "plt.bar(x+width/2,P_Survival_Rate['L'],width,color='b')\n",
    "plt.xticks([1,2,3])  \n",
    "plt.yticks(np.arange(0.0, 1.1, 0.1)) \n",
    "plt.grid(True,linestyle='-',color='0.7') \n",
    "plt.show()"
   ]
  },
  {
   "cell_type": "code",
   "execution_count": 48,
   "metadata": {},
   "outputs": [
    {
     "data": {
      "image/png": "[encoded data removed]",
      "text/plain": [
       "<matplotlib.figure.Figure at 0x1cc002b04e0>"
      ]
     },
     "metadata": {},
     "output_type": "display_data"
    }
   ],
   "source": [
    "kmeans_grouped=X_cluster.groupby(['K'])\n",
    "\n",
    "x=np.array([1,2,3])  \n",
    "width=0.3  \n",
    "plt.bar(x,kmeans_grouped.apply(np.size),width,color='b')  \n",
    "plt.xticks([1,2,3])  \n",
    "plt.grid(True,linestyle='-',color='0.7') \n",
    "plt.show()"
   ]
  },
  {
   "cell_type": "code",
   "execution_count": null,
   "metadata": {
    "collapsed": true
   },
   "outputs": [],
   "source": []
  }
 ],
 "metadata": {
  "kernelspec": {
   "display_name": "Python 3",
   "language": "python",
   "name": "python3"
  },
  "language_info": {
   "codemirror_mode": {
    "name": "ipython",
    "version": 3
   },
   "file_extension": ".py",
   "mimetype": "text/x-python",
   "name": "python",
   "nbconvert_exporter": "python",
   "pygments_lexer": "ipython3",
   "version": "3.6.3"
  }
 },
 "nbformat": 4,
 "nbformat_minor": 2
}
